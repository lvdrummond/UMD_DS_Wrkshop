{
 "cells": [
  {
   "attachments": {},
   "cell_type": "markdown",
   "metadata": {},
   "source": [
    "# Named Entity Recognition (NER)\n",
    "\n",
    "### What is it?\n",
    "\n",
    "-   Natural Language Processing (NLP) task\n",
    "-   Extract and categorize 'entities' from text\n",
    "-   Can be words or sequences of words\n",
    "-   Looking for 'who', 'what', 'where', 'when'\n",
    "-   Common types of entities identified:\n",
    "        -   Person\n",
    "        -   Organization\n",
    "        -   Time/Date\n",
    "        -   Event\n",
    "        -   Location\n",
    "        -   Money\n",
    "        -   Cardinal Number\n",
    "        -   Phone number\n",
    "        -   Email Address \n",
    "-   Simple examples:\n",
    "    -   **Lisa** *(PERSON)* went to the **mall** *(LOCATION)* **yesterday** *(DATE)*. \n",
    "    -   The annual **party** *(EVENT)* for **Praxis Engineering** *(ORGANIZATION)* is **Saturday** *(DATE)*.\n",
    "-   Example Named Entity Visualizer: https://demos.explosion.ai/displacy-ent\n",
    "\n",
    "### Use Cases - extract important details from large volumes of text\n",
    "-   Search Engines\n",
    "-   Health Records\n",
    "-   Customer Service\n",
    "-   HR/Resumes\n",
    "-   Translation\n",
    "\n",
    "### Types\n",
    "-   Dictionary\n",
    "    -   Uses dictionary (list) of entities\n",
    "    -   Used in combination with other methods in applications with very specific lexicon\n",
    "    -   Not often used alone as requires large, constantly updated dictionary\n",
    "-   Rules and Patterns\n",
    "    -   Similiar to dictionary often used to complement other methods\n",
    "    -   Can use patterns like regular expressions\n",
    "    -   Can use rules based on text context, for example, word after title always a name\n",
    "-   Statistical Methods\n",
    "    -   Conditional Random Field (sklearn-crfsuite) - graphical method where probability of node having label is dependent on neighboring nodes and their labels\n",
    "    -   Maximum-entropy Markov Model (MEMM) - form Markov model where probability of current label depends on previous label and current token\n",
    "-   Neural Network Methods\n",
    "    -   Most common method currently\n",
    "    -   More flexible as can 'understand' the semantic context of the words\n",
    "-   Methods can be used in combination\n",
    "\n",
    "# Evaluation Measures\n",
    "-   F-Score: function of precision and recall\n",
    "    -   2 * Precision * Recall / (Precision + Recall)     \n",
    "    -   Precision: # true positives / (# true positives + # false positives)\n",
    "        -   How many predicted entities labeled correctly\n",
    "    -   Recall: # true positives / (# true positives + # false negatives)\n",
    "        -   How many of the true entities were labeled\n",
    "-   Accuracy: (# true positives + # true negatives) / (# true positives + # false positives + # true negatives + # false negatives)\n",
    "-   One criticism of these methods is inability to locate why issues are happening\n",
    "-   Measures are calculated over all tokens and aggregated by type of entity and the whole document\n",
    "\n",
    "# spaCy package in python\n",
    "-    Open-source library uses mostly deep-learning neural network models\n",
    "-    Can be fine-tuned by users\n",
    "-    Offers different model sizes\n",
    "-    Includes other NLP features like tokenization, parts-of-speech, and text categorization\n",
    "-    Unlike NLTK, generally recommended for production speed and scale\n",
    "\n"
   ]
  },
  {
   "cell_type": "code",
   "execution_count": 1,
   "metadata": {
    "tags": []
   },
   "outputs": [
    {
     "name": "stdout",
     "output_type": "stream",
     "text": [
      "Collecting en-core-web-sm==3.7.0\n",
      "  Downloading https://github.com/explosion/spacy-models/releases/download/en_core_web_sm-3.7.0/en_core_web_sm-3.7.0-py3-none-any.whl (12.8 MB)\n",
      "     ━━━━━━━━━━━━━━━━━━━━━━━━━━━━━━━━━━━━━━━━ 12.8/12.8 MB 13.1 MB/s eta 0:00:00\n",
      "Requirement already satisfied: spacy<3.8.0,>=3.7.0 in /Users/lisavasko/anaconda3/envs/stat778/lib/python3.9/site-packages (from en-core-web-sm==3.7.0) (3.7.2)\n",
      "Requirement already satisfied: smart-open<7.0.0,>=5.2.1 in /Users/lisavasko/anaconda3/envs/stat778/lib/python3.9/site-packages (from spacy<3.8.0,>=3.7.0->en-core-web-sm==3.7.0) (6.4.0)\n",
      "Requirement already satisfied: srsly<3.0.0,>=2.4.3 in /Users/lisavasko/anaconda3/envs/stat778/lib/python3.9/site-packages (from spacy<3.8.0,>=3.7.0->en-core-web-sm==3.7.0) (2.4.8)\n",
      "Requirement already satisfied: catalogue<2.1.0,>=2.0.6 in /Users/lisavasko/anaconda3/envs/stat778/lib/python3.9/site-packages (from spacy<3.8.0,>=3.7.0->en-core-web-sm==3.7.0) (2.0.10)\n",
      "Requirement already satisfied: packaging>=20.0 in /Users/lisavasko/anaconda3/envs/stat778/lib/python3.9/site-packages (from spacy<3.8.0,>=3.7.0->en-core-web-sm==3.7.0) (22.0)\n",
      "Requirement already satisfied: tqdm<5.0.0,>=4.38.0 in /Users/lisavasko/anaconda3/envs/stat778/lib/python3.9/site-packages (from spacy<3.8.0,>=3.7.0->en-core-web-sm==3.7.0) (4.66.1)\n",
      "Requirement already satisfied: wasabi<1.2.0,>=0.9.1 in /Users/lisavasko/anaconda3/envs/stat778/lib/python3.9/site-packages (from spacy<3.8.0,>=3.7.0->en-core-web-sm==3.7.0) (1.1.2)\n",
      "Requirement already satisfied: spacy-legacy<3.1.0,>=3.0.11 in /Users/lisavasko/anaconda3/envs/stat778/lib/python3.9/site-packages (from spacy<3.8.0,>=3.7.0->en-core-web-sm==3.7.0) (3.0.12)\n",
      "Requirement already satisfied: weasel<0.4.0,>=0.1.0 in /Users/lisavasko/anaconda3/envs/stat778/lib/python3.9/site-packages (from spacy<3.8.0,>=3.7.0->en-core-web-sm==3.7.0) (0.3.4)\n",
      "Requirement already satisfied: cymem<2.1.0,>=2.0.2 in /Users/lisavasko/anaconda3/envs/stat778/lib/python3.9/site-packages (from spacy<3.8.0,>=3.7.0->en-core-web-sm==3.7.0) (2.0.8)\n",
      "Requirement already satisfied: setuptools in /Users/lisavasko/anaconda3/envs/stat778/lib/python3.9/site-packages (from spacy<3.8.0,>=3.7.0->en-core-web-sm==3.7.0) (65.6.3)\n",
      "Requirement already satisfied: langcodes<4.0.0,>=3.2.0 in /Users/lisavasko/anaconda3/envs/stat778/lib/python3.9/site-packages (from spacy<3.8.0,>=3.7.0->en-core-web-sm==3.7.0) (3.3.0)\n",
      "Requirement already satisfied: spacy-loggers<2.0.0,>=1.0.0 in /Users/lisavasko/anaconda3/envs/stat778/lib/python3.9/site-packages (from spacy<3.8.0,>=3.7.0->en-core-web-sm==3.7.0) (1.0.5)\n",
      "Requirement already satisfied: requests<3.0.0,>=2.13.0 in /Users/lisavasko/anaconda3/envs/stat778/lib/python3.9/site-packages (from spacy<3.8.0,>=3.7.0->en-core-web-sm==3.7.0) (2.31.0)\n",
      "Requirement already satisfied: thinc<8.3.0,>=8.1.8 in /Users/lisavasko/anaconda3/envs/stat778/lib/python3.9/site-packages (from spacy<3.8.0,>=3.7.0->en-core-web-sm==3.7.0) (8.2.1)\n",
      "Requirement already satisfied: preshed<3.1.0,>=3.0.2 in /Users/lisavasko/anaconda3/envs/stat778/lib/python3.9/site-packages (from spacy<3.8.0,>=3.7.0->en-core-web-sm==3.7.0) (3.0.9)\n",
      "Requirement already satisfied: murmurhash<1.1.0,>=0.28.0 in /Users/lisavasko/anaconda3/envs/stat778/lib/python3.9/site-packages (from spacy<3.8.0,>=3.7.0->en-core-web-sm==3.7.0) (1.0.10)\n",
      "Requirement already satisfied: jinja2 in /Users/lisavasko/anaconda3/envs/stat778/lib/python3.9/site-packages (from spacy<3.8.0,>=3.7.0->en-core-web-sm==3.7.0) (3.1.2)\n",
      "Requirement already satisfied: typer<0.10.0,>=0.3.0 in /Users/lisavasko/anaconda3/envs/stat778/lib/python3.9/site-packages (from spacy<3.8.0,>=3.7.0->en-core-web-sm==3.7.0) (0.9.0)\n",
      "Requirement already satisfied: pydantic!=1.8,!=1.8.1,<3.0.0,>=1.7.4 in /Users/lisavasko/anaconda3/envs/stat778/lib/python3.9/site-packages (from spacy<3.8.0,>=3.7.0->en-core-web-sm==3.7.0) (2.4.2)\n",
      "Requirement already satisfied: numpy>=1.19.0 in /Users/lisavasko/anaconda3/envs/stat778/lib/python3.9/site-packages (from spacy<3.8.0,>=3.7.0->en-core-web-sm==3.7.0) (1.19.2)\n",
      "Requirement already satisfied: pydantic-core==2.10.1 in /Users/lisavasko/anaconda3/envs/stat778/lib/python3.9/site-packages (from pydantic!=1.8,!=1.8.1,<3.0.0,>=1.7.4->spacy<3.8.0,>=3.7.0->en-core-web-sm==3.7.0) (2.10.1)\n",
      "Requirement already satisfied: typing-extensions>=4.6.1 in /Users/lisavasko/anaconda3/envs/stat778/lib/python3.9/site-packages (from pydantic!=1.8,!=1.8.1,<3.0.0,>=1.7.4->spacy<3.8.0,>=3.7.0->en-core-web-sm==3.7.0) (4.8.0)\n",
      "Requirement already satisfied: annotated-types>=0.4.0 in /Users/lisavasko/anaconda3/envs/stat778/lib/python3.9/site-packages (from pydantic!=1.8,!=1.8.1,<3.0.0,>=1.7.4->spacy<3.8.0,>=3.7.0->en-core-web-sm==3.7.0) (0.6.0)\n",
      "Requirement already satisfied: charset-normalizer<4,>=2 in /Users/lisavasko/anaconda3/envs/stat778/lib/python3.9/site-packages (from requests<3.0.0,>=2.13.0->spacy<3.8.0,>=3.7.0->en-core-web-sm==3.7.0) (3.3.2)\n",
      "Requirement already satisfied: urllib3<3,>=1.21.1 in /Users/lisavasko/anaconda3/envs/stat778/lib/python3.9/site-packages (from requests<3.0.0,>=2.13.0->spacy<3.8.0,>=3.7.0->en-core-web-sm==3.7.0) (2.0.7)\n",
      "Requirement already satisfied: certifi>=2017.4.17 in /Users/lisavasko/anaconda3/envs/stat778/lib/python3.9/site-packages (from requests<3.0.0,>=2.13.0->spacy<3.8.0,>=3.7.0->en-core-web-sm==3.7.0) (2022.12.7)\n",
      "Requirement already satisfied: idna<4,>=2.5 in /Users/lisavasko/anaconda3/envs/stat778/lib/python3.9/site-packages (from requests<3.0.0,>=2.13.0->spacy<3.8.0,>=3.7.0->en-core-web-sm==3.7.0) (3.4)\n",
      "Requirement already satisfied: blis<0.8.0,>=0.7.8 in /Users/lisavasko/anaconda3/envs/stat778/lib/python3.9/site-packages (from thinc<8.3.0,>=8.1.8->spacy<3.8.0,>=3.7.0->en-core-web-sm==3.7.0) (0.7.11)\n",
      "Requirement already satisfied: confection<1.0.0,>=0.0.1 in /Users/lisavasko/anaconda3/envs/stat778/lib/python3.9/site-packages (from thinc<8.3.0,>=8.1.8->spacy<3.8.0,>=3.7.0->en-core-web-sm==3.7.0) (0.1.3)\n",
      "Requirement already satisfied: click<9.0.0,>=7.1.1 in /Users/lisavasko/anaconda3/envs/stat778/lib/python3.9/site-packages (from typer<0.10.0,>=0.3.0->spacy<3.8.0,>=3.7.0->en-core-web-sm==3.7.0) (8.1.7)\n",
      "Requirement already satisfied: cloudpathlib<0.17.0,>=0.7.0 in /Users/lisavasko/anaconda3/envs/stat778/lib/python3.9/site-packages (from weasel<0.4.0,>=0.1.0->spacy<3.8.0,>=3.7.0->en-core-web-sm==3.7.0) (0.16.0)\n",
      "Requirement already satisfied: MarkupSafe>=2.0 in /Users/lisavasko/anaconda3/envs/stat778/lib/python3.9/site-packages (from jinja2->spacy<3.8.0,>=3.7.0->en-core-web-sm==3.7.0) (2.1.3)\n",
      "\u001b[38;5;2m✔ Download and installation successful\u001b[0m\n",
      "You can now load the package via spacy.load('en_core_web_sm')\n"
     ]
    }
   ],
   "source": [
    "# basic spaCy setup \n",
    "import spacy\n",
    "\n",
    "spacy.cli.download(\"en_core_web_sm\")\n",
    "NER = spacy.load(\"en_core_web_sm\")\n",
    "\n",
    "doc='''The World Health Organization (WHO)[1] is a specialized agency of the United Nations \n",
    "responsible for international public health.[2] \n",
    "The WHO Constitution states its main objective as 'the attainment by all peoples of the highest \n",
    "possible level of health'.[3] Headquartered in Geneva, Switzerland, it has six regional offices \n",
    "and 150 field offices worldwide. The WHO was established on 7 April 1948.[4][5] \n",
    "The first meeting of the World Health Assembly (WHA), the agency's governing body, took place on \n",
    "24 July of that year. The WHO incorporated the assets, personnel, and duties of the League of Nations' \n",
    "Health Organization and the Office International d'Hygiène Publique, including the \n",
    "International Classification of Diseases (ICD).[6] Its work began in earnest in 1951 \n",
    "after a significant infusion of financial and technical resources.[7]'''\n",
    "\n",
    "text = NER(doc)"
   ]
  },
  {
   "cell_type": "code",
   "execution_count": 2,
   "metadata": {},
   "outputs": [
    {
     "name": "stdout",
     "output_type": "stream",
     "text": [
      "[('The World Health Organization', 'ORG'), ('the United Nations', 'ORG'), ('The WHO Constitution', 'LAW'), (\"health'.[3]\", 'ORG'), ('Geneva', 'GPE'), ('Switzerland', 'GPE'), ('six', 'CARDINAL'), ('150', 'CARDINAL'), ('WHO', 'ORG'), ('7 April 1948.[4][5', 'DATE'), ('first', 'ORDINAL'), ('the World Health Assembly', 'ORG'), ('WHA', 'ORG'), ('24 July of that year', 'DATE'), ('WHO', 'ORG'), (\"the League of Nations' \\nHealth Organization\", 'ORG'), (\"the Office International d'Hygiène Publique\", 'ORG'), ('the \\nInternational Classification of Diseases', 'ORG'), ('1951', 'DATE')]\n"
     ]
    }
   ],
   "source": [
    "# spaCy NER output\n",
    "\n",
    "print([(ent.text.strip(), ent.label_) for ent in text.ents])"
   ]
  },
  {
   "cell_type": "code",
   "execution_count": 3,
   "metadata": {},
   "outputs": [
    {
     "data": {
      "text/plain": [
       "'Companies, agencies, institutions, etc.'"
      ]
     },
     "execution_count": 3,
     "metadata": {},
     "output_type": "execute_result"
    }
   ],
   "source": [
    "# display meaning of entity category\n",
    "spacy.explain(\"ORG\")"
   ]
  },
  {
   "cell_type": "code",
   "execution_count": 4,
   "metadata": {},
   "outputs": [
    {
     "data": {
      "text/html": [
       "<span class=\"tex2jax_ignore\"><div class=\"entities\" style=\"line-height: 2.5; direction: ltr\">\n",
       "<mark class=\"entity\" style=\"background: #7aecec; padding: 0.45em 0.6em; margin: 0 0.25em; line-height: 1; border-radius: 0.35em;\">\n",
       "    The World Health Organization\n",
       "    <span style=\"font-size: 0.8em; font-weight: bold; line-height: 1; border-radius: 0.35em; vertical-align: middle; margin-left: 0.5rem\">ORG</span>\n",
       "</mark>\n",
       " (WHO)[1] is a specialized agency of \n",
       "<mark class=\"entity\" style=\"background: #7aecec; padding: 0.45em 0.6em; margin: 0 0.25em; line-height: 1; border-radius: 0.35em;\">\n",
       "    the United Nations\n",
       "    <span style=\"font-size: 0.8em; font-weight: bold; line-height: 1; border-radius: 0.35em; vertical-align: middle; margin-left: 0.5rem\">ORG</span>\n",
       "</mark>\n",
       " <br>responsible for international public health.[2] <br>\n",
       "<mark class=\"entity\" style=\"background: #ff8197; padding: 0.45em 0.6em; margin: 0 0.25em; line-height: 1; border-radius: 0.35em;\">\n",
       "    The WHO Constitution\n",
       "    <span style=\"font-size: 0.8em; font-weight: bold; line-height: 1; border-radius: 0.35em; vertical-align: middle; margin-left: 0.5rem\">LAW</span>\n",
       "</mark>\n",
       " states its main objective as 'the attainment by all peoples of the highest <br>possible level of \n",
       "<mark class=\"entity\" style=\"background: #7aecec; padding: 0.45em 0.6em; margin: 0 0.25em; line-height: 1; border-radius: 0.35em;\">\n",
       "    health'.[3]\n",
       "    <span style=\"font-size: 0.8em; font-weight: bold; line-height: 1; border-radius: 0.35em; vertical-align: middle; margin-left: 0.5rem\">ORG</span>\n",
       "</mark>\n",
       " Headquartered in \n",
       "<mark class=\"entity\" style=\"background: #feca74; padding: 0.45em 0.6em; margin: 0 0.25em; line-height: 1; border-radius: 0.35em;\">\n",
       "    Geneva\n",
       "    <span style=\"font-size: 0.8em; font-weight: bold; line-height: 1; border-radius: 0.35em; vertical-align: middle; margin-left: 0.5rem\">GPE</span>\n",
       "</mark>\n",
       ", \n",
       "<mark class=\"entity\" style=\"background: #feca74; padding: 0.45em 0.6em; margin: 0 0.25em; line-height: 1; border-radius: 0.35em;\">\n",
       "    Switzerland\n",
       "    <span style=\"font-size: 0.8em; font-weight: bold; line-height: 1; border-radius: 0.35em; vertical-align: middle; margin-left: 0.5rem\">GPE</span>\n",
       "</mark>\n",
       ", it has \n",
       "<mark class=\"entity\" style=\"background: #e4e7d2; padding: 0.45em 0.6em; margin: 0 0.25em; line-height: 1; border-radius: 0.35em;\">\n",
       "    six\n",
       "    <span style=\"font-size: 0.8em; font-weight: bold; line-height: 1; border-radius: 0.35em; vertical-align: middle; margin-left: 0.5rem\">CARDINAL</span>\n",
       "</mark>\n",
       " regional offices <br>and \n",
       "<mark class=\"entity\" style=\"background: #e4e7d2; padding: 0.45em 0.6em; margin: 0 0.25em; line-height: 1; border-radius: 0.35em;\">\n",
       "    150\n",
       "    <span style=\"font-size: 0.8em; font-weight: bold; line-height: 1; border-radius: 0.35em; vertical-align: middle; margin-left: 0.5rem\">CARDINAL</span>\n",
       "</mark>\n",
       " field offices worldwide. The \n",
       "<mark class=\"entity\" style=\"background: #7aecec; padding: 0.45em 0.6em; margin: 0 0.25em; line-height: 1; border-radius: 0.35em;\">\n",
       "    WHO\n",
       "    <span style=\"font-size: 0.8em; font-weight: bold; line-height: 1; border-radius: 0.35em; vertical-align: middle; margin-left: 0.5rem\">ORG</span>\n",
       "</mark>\n",
       " was established on \n",
       "<mark class=\"entity\" style=\"background: #bfe1d9; padding: 0.45em 0.6em; margin: 0 0.25em; line-height: 1; border-radius: 0.35em;\">\n",
       "    7 April 1948.[4][5\n",
       "    <span style=\"font-size: 0.8em; font-weight: bold; line-height: 1; border-radius: 0.35em; vertical-align: middle; margin-left: 0.5rem\">DATE</span>\n",
       "</mark>\n",
       "] <br>The \n",
       "<mark class=\"entity\" style=\"background: #e4e7d2; padding: 0.45em 0.6em; margin: 0 0.25em; line-height: 1; border-radius: 0.35em;\">\n",
       "    first\n",
       "    <span style=\"font-size: 0.8em; font-weight: bold; line-height: 1; border-radius: 0.35em; vertical-align: middle; margin-left: 0.5rem\">ORDINAL</span>\n",
       "</mark>\n",
       " meeting of \n",
       "<mark class=\"entity\" style=\"background: #7aecec; padding: 0.45em 0.6em; margin: 0 0.25em; line-height: 1; border-radius: 0.35em;\">\n",
       "    the World Health Assembly\n",
       "    <span style=\"font-size: 0.8em; font-weight: bold; line-height: 1; border-radius: 0.35em; vertical-align: middle; margin-left: 0.5rem\">ORG</span>\n",
       "</mark>\n",
       " (\n",
       "<mark class=\"entity\" style=\"background: #7aecec; padding: 0.45em 0.6em; margin: 0 0.25em; line-height: 1; border-radius: 0.35em;\">\n",
       "    WHA\n",
       "    <span style=\"font-size: 0.8em; font-weight: bold; line-height: 1; border-radius: 0.35em; vertical-align: middle; margin-left: 0.5rem\">ORG</span>\n",
       "</mark>\n",
       "), the agency's governing body, took place on <br>\n",
       "<mark class=\"entity\" style=\"background: #bfe1d9; padding: 0.45em 0.6em; margin: 0 0.25em; line-height: 1; border-radius: 0.35em;\">\n",
       "    24 July of that year\n",
       "    <span style=\"font-size: 0.8em; font-weight: bold; line-height: 1; border-radius: 0.35em; vertical-align: middle; margin-left: 0.5rem\">DATE</span>\n",
       "</mark>\n",
       ". The \n",
       "<mark class=\"entity\" style=\"background: #7aecec; padding: 0.45em 0.6em; margin: 0 0.25em; line-height: 1; border-radius: 0.35em;\">\n",
       "    WHO\n",
       "    <span style=\"font-size: 0.8em; font-weight: bold; line-height: 1; border-radius: 0.35em; vertical-align: middle; margin-left: 0.5rem\">ORG</span>\n",
       "</mark>\n",
       " incorporated the assets, personnel, and duties of \n",
       "<mark class=\"entity\" style=\"background: #7aecec; padding: 0.45em 0.6em; margin: 0 0.25em; line-height: 1; border-radius: 0.35em;\">\n",
       "    the League of Nations' \n",
       "Health Organization\n",
       "    <span style=\"font-size: 0.8em; font-weight: bold; line-height: 1; border-radius: 0.35em; vertical-align: middle; margin-left: 0.5rem\">ORG</span>\n",
       "</mark>\n",
       " and \n",
       "<mark class=\"entity\" style=\"background: #7aecec; padding: 0.45em 0.6em; margin: 0 0.25em; line-height: 1; border-radius: 0.35em;\">\n",
       "    the Office International d'Hygiène Publique\n",
       "    <span style=\"font-size: 0.8em; font-weight: bold; line-height: 1; border-radius: 0.35em; vertical-align: middle; margin-left: 0.5rem\">ORG</span>\n",
       "</mark>\n",
       ", including \n",
       "<mark class=\"entity\" style=\"background: #7aecec; padding: 0.45em 0.6em; margin: 0 0.25em; line-height: 1; border-radius: 0.35em;\">\n",
       "    the \n",
       "International Classification of Diseases\n",
       "    <span style=\"font-size: 0.8em; font-weight: bold; line-height: 1; border-radius: 0.35em; vertical-align: middle; margin-left: 0.5rem\">ORG</span>\n",
       "</mark>\n",
       " (ICD).[6] Its work began in earnest in \n",
       "<mark class=\"entity\" style=\"background: #bfe1d9; padding: 0.45em 0.6em; margin: 0 0.25em; line-height: 1; border-radius: 0.35em;\">\n",
       "    1951\n",
       "    <span style=\"font-size: 0.8em; font-weight: bold; line-height: 1; border-radius: 0.35em; vertical-align: middle; margin-left: 0.5rem\">DATE</span>\n",
       "</mark>\n",
       " <br>after a significant infusion of financial and technical resources.[7]</div></span>"
      ],
      "text/plain": [
       "<IPython.core.display.HTML object>"
      ]
     },
     "metadata": {},
     "output_type": "display_data"
    }
   ],
   "source": [
    "# display entities visually\n",
    "from spacy import displacy\n",
    "displacy.render(NER(doc),style=\"ent\",jupyter=True)"
   ]
  },
  {
   "cell_type": "code",
   "execution_count": 5,
   "metadata": {},
   "outputs": [
    {
     "name": "stdout",
     "output_type": "stream",
     "text": [
      "['tok2vec', 'tagger', 'parser', 'attribute_ruler', 'lemmatizer', 'ner']\n"
     ]
    }
   ],
   "source": [
    "# see current pipeline of individual tasks\n",
    "print(NER.pipe_names)"
   ]
  },
  {
   "cell_type": "code",
   "execution_count": 6,
   "metadata": {},
   "outputs": [],
   "source": [
    "# can add new elements to pipeline\n",
    "NER.enable_pipe(\"senter\") # this element breaks text into sentences"
   ]
  },
  {
   "attachments": {},
   "cell_type": "markdown",
   "metadata": {},
   "source": [
    "-   NER models may perform poorly for specialized jargon as in example below\n",
    "-   We can add exact words, patterns or rules to model using spaCy's EntityRuler\n",
    "        -   See https://spacy.io/usage/rule-based-matching for documentation on formatting\n",
    "-   Can also fine-tune deep learning model with annotated training data"
   ]
  },
  {
   "cell_type": "code",
   "execution_count": 7,
   "metadata": {},
   "outputs": [
    {
     "name": "stdout",
     "output_type": "stream",
     "text": [
      "[]\n"
     ]
    }
   ],
   "source": [
    "# performance issues\n",
    "doc_med = \"Antiretroviral therapy (ART) is recommended for all HIV-infected individuals.\"\n",
    "text_med = NER(doc_med)\n",
    "print([(ent.text.strip(), ent.label_) for ent in text_med.ents])"
   ]
  },
  {
   "cell_type": "code",
   "execution_count": 8,
   "metadata": {},
   "outputs": [
    {
     "name": "stdout",
     "output_type": "stream",
     "text": [
      "[('555', 'CARDINAL'), ('123-4567', 'CARDINAL')]\n"
     ]
    }
   ],
   "source": [
    "# performance issues\n",
    "doc_phone = \"My phone number is (555) 123-4567 and email is lisa@xyz.com\"\n",
    "text_phone = NER(doc_phone)\n",
    "print([(ent.text.strip(), ent.label_) for ent in text_phone.ents])"
   ]
  },
  {
   "cell_type": "code",
   "execution_count": 9,
   "metadata": {},
   "outputs": [
    {
     "name": "stdout",
     "output_type": "stream",
     "text": [
      "[('Antiretroviral therapy', 'MEDICINE')]\n",
      "[('(555) 123-4567', 'PHONENUM'), ('lisa@xyz.com', 'EMAILADDR')]\n"
     ]
    }
   ],
   "source": [
    "# EntityRuler - add rules\n",
    "patterns = [{\"label\": \"MEDICINE\", \"pattern\": \"Antiretroviral therapy\"}, # exact match\n",
    "            {\"label\": \"PHONENUM\", \"pattern\": \n",
    "            [{\"ORTH\": \"(\"},\n",
    "            {\"SHAPE\": \"ddd\"},\n",
    "            {\"ORTH\": \")\"},\n",
    "            {\"IS_SPACE\": True, \"OP\": \"?\"},\n",
    "            {\"SHAPE\": \"ddd\"},\n",
    "            {\"ORTH\": \"-\"},\n",
    "            {\"SHAPE\": \"dddd\"},]}, # spaCy SHAPE\n",
    "            {\"label\": \"EMAILADDR\", \"pattern\": \n",
    "             [{\"TEXT\": {\"REGEX\": \"[a-zA-Z0-9._~&=*-]+@[a-zA-Z0-9.-]+\\.[a-zA-Z]{2,4}\"}}]} # regular expression\n",
    "            ]\n",
    "ruler = NER.add_pipe(\"entity_ruler\", before = \"ner\")\n",
    "ruler.add_patterns(patterns)\n",
    "\n",
    "\n",
    "text_med = NER(doc_med)\n",
    "text_phone = NER(doc_phone)\n",
    "print([(ent.text.strip(), ent.label_) for ent in text_med.ents])\n",
    "print([(ent.text.strip(), ent.label_) for ent in text_phone.ents])\n"
   ]
  },
  {
   "attachments": {},
   "cell_type": "markdown",
   "metadata": {},
   "source": [
    "-   Can use annotated example to fine-tune model\n",
    "-   Used medical entity dictionary from Kaggle https://www.kaggle.com/datasets/finalepoch/medical-ner/\n",
    "-   Will show format needed for training, for full tutorial see https://newscatcherapi.com/blog/train-custom-named-entity-recognition-ner-model-with-spacy-v3"
   ]
  },
  {
   "cell_type": "code",
   "execution_count": 10,
   "metadata": {},
   "outputs": [
    {
     "name": "stdout",
     "output_type": "stream",
     "text": [
      "{'id': '18c2f619-f102-452f-ab81-d26f7e283ffe', 'content': \"While bismuth compounds (Pepto-Bismol) decreased the number of bowel movements in those with travelers' diarrhea, they do not decrease the length of illness.[91] Anti-motility agents like loperamide are also effective at reducing the number of stools but not the duration of disease.[8] These agents should be used only if bloody diarrhea is not present.[92]\\n\\nDiosmectite, a natural aluminomagnesium silicate clay, is effective in alleviating symptoms of acute diarrhea in children,[93] and also has some effects in chronic functional diarrhea, radiation-induced diarrhea, and chemotherapy-induced diarrhea.[45] Another absorbent agent used for the treatment of mild diarrhea is kaopectate.\\n\\nRacecadotril an antisecretory medication may be used to treat diarrhea in children and adults.[86] It has better tolerability than loperamide, as it causes less constipation and flatulence.[94]\", 'metadata': {}, 'annotations': [{'id': '0825a1bf-6a6e-4fa2-be77-8d104701eaed', 'tag_id': 'c06bd022-6ded-44a5-8d90-f17685bb85a1', 'end': 371, 'start': 360, 'example_id': '18c2f619-f102-452f-ab81-d26f7e283ffe', 'tag_name': 'Medicine', 'value': 'Diosmectite', 'correct': None, 'human_annotations': [{'timestamp': '2020-03-21T00:24:32.098000Z', 'annotator_id': 1, 'tagged_token_id': '0825a1bf-6a6e-4fa2-be77-8d104701eaed', 'name': 'Ashpat123', 'reason': 'exploration'}], 'model_annotations': []}, {'id': '145f62b1-bbf5-42f1-8ad5-9c7e08337bf0', 'tag_id': 'c06bd022-6ded-44a5-8d90-f17685bb85a1', 'end': 408, 'start': 383, 'example_id': '18c2f619-f102-452f-ab81-d26f7e283ffe', 'tag_name': 'Medicine', 'value': 'aluminomagnesium silicate', 'correct': None, 'human_annotations': [{'timestamp': '2020-03-21T00:24:43.692000Z', 'annotator_id': 1, 'tagged_token_id': '145f62b1-bbf5-42f1-8ad5-9c7e08337bf0', 'name': 'Ashpat123', 'reason': 'exploration'}], 'model_annotations': []}, {'id': '243efeb2-723f-4be4-933c-fbbf7e0f9903', 'tag_id': '03eb3e50-d4d8-4261-a60b-fa5aee5deb4a', 'end': 112, 'start': 104, 'example_id': '18c2f619-f102-452f-ab81-d26f7e283ffe', 'tag_name': 'MedicalCondition', 'value': 'diarrhea', 'correct': None, 'human_annotations': [{'timestamp': '2020-03-21T00:24:09.423000Z', 'annotator_id': 1, 'tagged_token_id': '243efeb2-723f-4be4-933c-fbbf7e0f9903', 'name': 'Ashpat123', 'reason': 'exploration'}], 'model_annotations': []}, {'id': '281f49d3-879a-4409-b09e-4cfae019af16', 'tag_id': 'c06bd022-6ded-44a5-8d90-f17685bb85a1', 'end': 689, 'start': 679, 'example_id': '18c2f619-f102-452f-ab81-d26f7e283ffe', 'tag_name': 'Medicine', 'value': 'kaopectate', 'correct': None, 'human_annotations': [{'timestamp': '2020-03-21T00:25:38.366000Z', 'annotator_id': 1, 'tagged_token_id': '281f49d3-879a-4409-b09e-4cfae019af16', 'name': 'Ashpat123', 'reason': 'exploration'}], 'model_annotations': []}, {'id': '32fdf9e7-63f7-442a-8e25-f08ea4ad94d5', 'tag_id': 'c06bd022-6ded-44a5-8d90-f17685bb85a1', 'end': 23, 'start': 6, 'example_id': '18c2f619-f102-452f-ab81-d26f7e283ffe', 'tag_name': 'Medicine', 'value': 'bismuth compounds', 'correct': None, 'human_annotations': [{'timestamp': '2020-03-21T00:23:46.721000Z', 'annotator_id': 1, 'tagged_token_id': '32fdf9e7-63f7-442a-8e25-f08ea4ad94d5', 'name': 'Ashpat123', 'reason': 'exploration'}], 'model_annotations': []}, {'id': '392094d2-febf-4074-a2ca-4c0082f4e5b8', 'tag_id': 'c06bd022-6ded-44a5-8d90-f17685bb85a1', 'end': 37, 'start': 25, 'example_id': '18c2f619-f102-452f-ab81-d26f7e283ffe', 'tag_name': 'Medicine', 'value': 'Pepto-Bismol', 'correct': None, 'human_annotations': [{'timestamp': '2020-03-21T00:23:58.861000Z', 'annotator_id': 1, 'tagged_token_id': '392094d2-febf-4074-a2ca-4c0082f4e5b8', 'name': 'Ashpat123', 'reason': 'exploration'}], 'model_annotations': []}, {'id': '450b8c30-cf2e-4774-96d9-58b4160bea38', 'tag_id': '03eb3e50-d4d8-4261-a60b-fa5aee5deb4a', 'end': 470, 'start': 461, 'example_id': '18c2f619-f102-452f-ab81-d26f7e283ffe', 'tag_name': 'MedicalCondition', 'value': 'diarrhea ', 'correct': None, 'human_annotations': [], 'model_annotations': []}, {'id': '6b73f683-7130-4e16-bcc2-e3cc8cf89f4d', 'tag_id': 'c06bd022-6ded-44a5-8d90-f17685bb85a1', 'end': 589, 'start': 577, 'example_id': '18c2f619-f102-452f-ab81-d26f7e283ffe', 'tag_name': 'Medicine', 'value': 'chemotherapy', 'correct': None, 'human_annotations': [{'timestamp': '2020-03-21T00:25:24.179000Z', 'annotator_id': 1, 'tagged_token_id': '6b73f683-7130-4e16-bcc2-e3cc8cf89f4d', 'name': 'Ashpat123', 'reason': 'exploration'}], 'model_annotations': []}, {'id': '74574b7f-d535-48e1-8651-2708adcfe453', 'tag_id': '03eb3e50-d4d8-4261-a60b-fa5aee5deb4a', 'end': 865, 'start': 853, 'example_id': '18c2f619-f102-452f-ab81-d26f7e283ffe', 'tag_name': 'MedicalCondition', 'value': 'constipation', 'correct': None, 'human_annotations': [{'timestamp': '2020-03-21T00:26:31.676000Z', 'annotator_id': 1, 'tagged_token_id': '74574b7f-d535-48e1-8651-2708adcfe453', 'name': 'Ashpat123', 'reason': 'exploration'}], 'model_annotations': []}, {'id': '7572ab8e-ae99-400c-b4ab-ed46fbc9f97e', 'tag_id': 'c06bd022-6ded-44a5-8d90-f17685bb85a1', 'end': 198, 'start': 188, 'example_id': '18c2f619-f102-452f-ab81-d26f7e283ffe', 'tag_name': 'Medicine', 'value': 'loperamide', 'correct': None, 'human_annotations': [{'timestamp': '2020-03-21T00:24:17.680000Z', 'annotator_id': 1, 'tagged_token_id': '7572ab8e-ae99-400c-b4ab-ed46fbc9f97e', 'name': 'Ashpat123', 'reason': 'exploration'}], 'model_annotations': []}, {'id': '800e6c6c-0bfb-4819-a25a-34f759753457', 'tag_id': '03eb3e50-d4d8-4261-a60b-fa5aee5deb4a', 'end': 762, 'start': 754, 'example_id': '18c2f619-f102-452f-ab81-d26f7e283ffe', 'tag_name': 'MedicalCondition', 'value': 'diarrhea', 'correct': None, 'human_annotations': [{'timestamp': '2020-03-21T00:26:07.368000Z', 'annotator_id': 1, 'tagged_token_id': '800e6c6c-0bfb-4819-a25a-34f759753457', 'name': 'Ashpat123', 'reason': 'exploration'}], 'model_annotations': []}, {'id': '8214556a-7584-4d9b-86cd-5e09137ad904', 'tag_id': '03eb3e50-d4d8-4261-a60b-fa5aee5deb4a', 'end': 880, 'start': 870, 'example_id': '18c2f619-f102-452f-ab81-d26f7e283ffe', 'tag_name': 'MedicalCondition', 'value': 'flatulence', 'correct': None, 'human_annotations': [{'timestamp': '2020-03-21T00:26:41.322000Z', 'annotator_id': 1, 'tagged_token_id': '8214556a-7584-4d9b-86cd-5e09137ad904', 'name': 'Ashpat123', 'reason': 'exploration'}], 'model_annotations': []}, {'id': '98968e14-6756-4174-9d3d-7abd58b3aa34', 'tag_id': 'c06bd022-6ded-44a5-8d90-f17685bb85a1', 'end': 833, 'start': 823, 'example_id': '18c2f619-f102-452f-ab81-d26f7e283ffe', 'tag_name': 'Medicine', 'value': 'loperamide', 'correct': None, 'human_annotations': [{'timestamp': '2020-03-21T00:26:12.759000Z', 'annotator_id': 1, 'tagged_token_id': '98968e14-6756-4174-9d3d-7abd58b3aa34', 'name': 'Ashpat123', 'reason': 'exploration'}], 'model_annotations': []}, {'id': 'a0a03c7b-cfad-41ee-9f5c-f8a802475994', 'tag_id': '03eb3e50-d4d8-4261-a60b-fa5aee5deb4a', 'end': 853, 'start': 852, 'example_id': '18c2f619-f102-452f-ab81-d26f7e283ffe', 'tag_name': 'MedicalCondition', 'value': ' ', 'correct': None, 'human_annotations': [], 'model_annotations': []}, {'id': 'bfbddfd4-38aa-43a7-9366-24c95829ac8c', 'tag_id': '03eb3e50-d4d8-4261-a60b-fa5aee5deb4a', 'end': 469, 'start': 461, 'example_id': '18c2f619-f102-452f-ab81-d26f7e283ffe', 'tag_name': 'MedicalCondition', 'value': 'diarrhea', 'correct': None, 'human_annotations': [{'timestamp': '2020-03-21T00:25:06.921000Z', 'annotator_id': 1, 'tagged_token_id': 'bfbddfd4-38aa-43a7-9366-24c95829ac8c', 'name': 'Ashpat123', 'reason': 'exploration'}], 'model_annotations': []}, {'id': 'd7d68c18-0d8e-4547-a2fa-81fdcaf3080e', 'tag_id': '03eb3e50-d4d8-4261-a60b-fa5aee5deb4a', 'end': 543, 'start': 535, 'example_id': '18c2f619-f102-452f-ab81-d26f7e283ffe', 'tag_name': 'MedicalCondition', 'value': 'diarrhea', 'correct': None, 'human_annotations': [{'timestamp': '2020-03-21T00:25:12.203000Z', 'annotator_id': 1, 'tagged_token_id': 'd7d68c18-0d8e-4547-a2fa-81fdcaf3080e', 'name': 'Ashpat123', 'reason': 'exploration'}], 'model_annotations': []}, {'id': 'ee956220-42a4-4a91-b9f0-75019c4f5dd9', 'tag_id': 'c06bd022-6ded-44a5-8d90-f17685bb85a1', 'end': 704, 'start': 692, 'example_id': '18c2f619-f102-452f-ab81-d26f7e283ffe', 'tag_name': 'Medicine', 'value': 'Racecadotril', 'correct': None, 'human_annotations': [{'timestamp': '2020-03-21T00:25:56.503000Z', 'annotator_id': 1, 'tagged_token_id': 'ee956220-42a4-4a91-b9f0-75019c4f5dd9', 'name': 'Ashpat123', 'reason': 'exploration'}], 'model_annotations': []}, {'id': 'f04a6b7e-8904-405c-9301-e4543238b7a5', 'tag_id': '03eb3e50-d4d8-4261-a60b-fa5aee5deb4a', 'end': 571, 'start': 563, 'example_id': '18c2f619-f102-452f-ab81-d26f7e283ffe', 'tag_name': 'MedicalCondition', 'value': 'diarrhea', 'correct': None, 'human_annotations': [{'timestamp': '2020-03-21T00:25:18.043000Z', 'annotator_id': 1, 'tagged_token_id': 'f04a6b7e-8904-405c-9301-e4543238b7a5', 'name': 'Ashpat123', 'reason': 'exploration'}], 'model_annotations': []}], 'classifications': []}\n"
     ]
    }
   ],
   "source": [
    "# fine-tuning training data format\n",
    "import json\n",
    "with open('Corona2.json', 'r') as f:\n",
    "    data = json.load(f)\n",
    "    \n",
    "print(data['examples'][0])\n",
    "\n"
   ]
  },
  {
   "cell_type": "code",
   "execution_count": 11,
   "metadata": {},
   "outputs": [
    {
     "name": "stdout",
     "output_type": "stream",
     "text": [
      "{'text': \"While bismuth compounds (Pepto-Bismol) decreased the number of bowel movements in those with travelers' diarrhea, they do not decrease the length of illness.[91] Anti-motility agents like loperamide are also effective at reducing the number of stools but not the duration of disease.[8] These agents should be used only if bloody diarrhea is not present.[92]\\n\\nDiosmectite, a natural aluminomagnesium silicate clay, is effective in alleviating symptoms of acute diarrhea in children,[93] and also has some effects in chronic functional diarrhea, radiation-induced diarrhea, and chemotherapy-induced diarrhea.[45] Another absorbent agent used for the treatment of mild diarrhea is kaopectate.\\n\\nRacecadotril an antisecretory medication may be used to treat diarrhea in children and adults.[86] It has better tolerability than loperamide, as it causes less constipation and flatulence.[94]\", 'entities': [(360, 371, 'MEDICINE'), (383, 408, 'MEDICINE'), (104, 112, 'MEDICALCONDITION'), (679, 689, 'MEDICINE'), (6, 23, 'MEDICINE'), (25, 37, 'MEDICINE'), (461, 470, 'MEDICALCONDITION'), (577, 589, 'MEDICINE'), (853, 865, 'MEDICALCONDITION'), (188, 198, 'MEDICINE'), (754, 762, 'MEDICALCONDITION'), (870, 880, 'MEDICALCONDITION'), (823, 833, 'MEDICINE'), (852, 853, 'MEDICALCONDITION'), (461, 469, 'MEDICALCONDITION'), (535, 543, 'MEDICALCONDITION'), (692, 704, 'MEDICINE'), (563, 571, 'MEDICALCONDITION')]}\n"
     ]
    }
   ],
   "source": [
    "training_data = {'classes' : ['MEDICINE', \"MEDICALCONDITION\", \"PATHOGEN\"], 'annotations' : []}\n",
    "for example in data['examples']:\n",
    "  temp_dict = {}\n",
    "  temp_dict['text'] = example['content']\n",
    "  temp_dict['entities'] = []\n",
    "  for annotation in example['annotations']:\n",
    "    start = annotation['start']\n",
    "    end = annotation['end']\n",
    "    label = annotation['tag_name'].upper()\n",
    "    temp_dict['entities'].append((start, end, label))\n",
    "  training_data['annotations'].append(temp_dict)\n",
    "  \n",
    "print(training_data['annotations'][0])"
   ]
  }
 ],
 "metadata": {
  "kernelspec": {
   "display_name": "stat778",
   "language": "python",
   "name": "python3"
  },
  "language_info": {
   "codemirror_mode": {
    "name": "ipython",
    "version": 3
   },
   "file_extension": ".py",
   "mimetype": "text/x-python",
   "name": "python",
   "nbconvert_exporter": "python",
   "pygments_lexer": "ipython3",
   "version": "3.9.16"
  },
  "orig_nbformat": 4,
  "vscode": {
   "interpreter": {
    "hash": "031ae9c41457281b1a22ac662b6dd5c4b9a7bcf4ecb9be613465bb64e6e619a3"
   }
  }
 },
 "nbformat": 4,
 "nbformat_minor": 2
}
